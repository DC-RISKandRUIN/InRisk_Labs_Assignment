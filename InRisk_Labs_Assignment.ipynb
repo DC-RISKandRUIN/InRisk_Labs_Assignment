{
  "nbformat": 4,
  "nbformat_minor": 0,
  "metadata": {
    "colab": {
      "provenance": []
    },
    "kernelspec": {
      "name": "python3",
      "display_name": "Python 3"
    },
    "language_info": {
      "name": "python"
    }
  },
  "cells": [
    {
      "cell_type": "code",
      "execution_count": 2,
      "metadata": {
        "colab": {
          "base_uri": "https://localhost:8080/",
          "height": 90
        },
        "id": "ZpoXH_VEnkdP",
        "outputId": "36447bb5-34a6-4102-f2a4-45b6c2415d70"
      },
      "outputs": [
        {
          "output_type": "display_data",
          "data": {
            "text/plain": [
              "<IPython.core.display.HTML object>"
            ],
            "text/html": [
              "\n",
              "     <input type=\"file\" id=\"files-21503462-70f2-48f7-af5c-6bb34523028b\" name=\"files[]\" multiple disabled\n",
              "        style=\"border:none\" />\n",
              "     <output id=\"result-21503462-70f2-48f7-af5c-6bb34523028b\">\n",
              "      Upload widget is only available when the cell has been executed in the\n",
              "      current browser session. Please rerun this cell to enable.\n",
              "      </output>\n",
              "      <script>// Copyright 2017 Google LLC\n",
              "//\n",
              "// Licensed under the Apache License, Version 2.0 (the \"License\");\n",
              "// you may not use this file except in compliance with the License.\n",
              "// You may obtain a copy of the License at\n",
              "//\n",
              "//      http://www.apache.org/licenses/LICENSE-2.0\n",
              "//\n",
              "// Unless required by applicable law or agreed to in writing, software\n",
              "// distributed under the License is distributed on an \"AS IS\" BASIS,\n",
              "// WITHOUT WARRANTIES OR CONDITIONS OF ANY KIND, either express or implied.\n",
              "// See the License for the specific language governing permissions and\n",
              "// limitations under the License.\n",
              "\n",
              "/**\n",
              " * @fileoverview Helpers for google.colab Python module.\n",
              " */\n",
              "(function(scope) {\n",
              "function span(text, styleAttributes = {}) {\n",
              "  const element = document.createElement('span');\n",
              "  element.textContent = text;\n",
              "  for (const key of Object.keys(styleAttributes)) {\n",
              "    element.style[key] = styleAttributes[key];\n",
              "  }\n",
              "  return element;\n",
              "}\n",
              "\n",
              "// Max number of bytes which will be uploaded at a time.\n",
              "const MAX_PAYLOAD_SIZE = 100 * 1024;\n",
              "\n",
              "function _uploadFiles(inputId, outputId) {\n",
              "  const steps = uploadFilesStep(inputId, outputId);\n",
              "  const outputElement = document.getElementById(outputId);\n",
              "  // Cache steps on the outputElement to make it available for the next call\n",
              "  // to uploadFilesContinue from Python.\n",
              "  outputElement.steps = steps;\n",
              "\n",
              "  return _uploadFilesContinue(outputId);\n",
              "}\n",
              "\n",
              "// This is roughly an async generator (not supported in the browser yet),\n",
              "// where there are multiple asynchronous steps and the Python side is going\n",
              "// to poll for completion of each step.\n",
              "// This uses a Promise to block the python side on completion of each step,\n",
              "// then passes the result of the previous step as the input to the next step.\n",
              "function _uploadFilesContinue(outputId) {\n",
              "  const outputElement = document.getElementById(outputId);\n",
              "  const steps = outputElement.steps;\n",
              "\n",
              "  const next = steps.next(outputElement.lastPromiseValue);\n",
              "  return Promise.resolve(next.value.promise).then((value) => {\n",
              "    // Cache the last promise value to make it available to the next\n",
              "    // step of the generator.\n",
              "    outputElement.lastPromiseValue = value;\n",
              "    return next.value.response;\n",
              "  });\n",
              "}\n",
              "\n",
              "/**\n",
              " * Generator function which is called between each async step of the upload\n",
              " * process.\n",
              " * @param {string} inputId Element ID of the input file picker element.\n",
              " * @param {string} outputId Element ID of the output display.\n",
              " * @return {!Iterable<!Object>} Iterable of next steps.\n",
              " */\n",
              "function* uploadFilesStep(inputId, outputId) {\n",
              "  const inputElement = document.getElementById(inputId);\n",
              "  inputElement.disabled = false;\n",
              "\n",
              "  const outputElement = document.getElementById(outputId);\n",
              "  outputElement.innerHTML = '';\n",
              "\n",
              "  const pickedPromise = new Promise((resolve) => {\n",
              "    inputElement.addEventListener('change', (e) => {\n",
              "      resolve(e.target.files);\n",
              "    });\n",
              "  });\n",
              "\n",
              "  const cancel = document.createElement('button');\n",
              "  inputElement.parentElement.appendChild(cancel);\n",
              "  cancel.textContent = 'Cancel upload';\n",
              "  const cancelPromise = new Promise((resolve) => {\n",
              "    cancel.onclick = () => {\n",
              "      resolve(null);\n",
              "    };\n",
              "  });\n",
              "\n",
              "  // Wait for the user to pick the files.\n",
              "  const files = yield {\n",
              "    promise: Promise.race([pickedPromise, cancelPromise]),\n",
              "    response: {\n",
              "      action: 'starting',\n",
              "    }\n",
              "  };\n",
              "\n",
              "  cancel.remove();\n",
              "\n",
              "  // Disable the input element since further picks are not allowed.\n",
              "  inputElement.disabled = true;\n",
              "\n",
              "  if (!files) {\n",
              "    return {\n",
              "      response: {\n",
              "        action: 'complete',\n",
              "      }\n",
              "    };\n",
              "  }\n",
              "\n",
              "  for (const file of files) {\n",
              "    const li = document.createElement('li');\n",
              "    li.append(span(file.name, {fontWeight: 'bold'}));\n",
              "    li.append(span(\n",
              "        `(${file.type || 'n/a'}) - ${file.size} bytes, ` +\n",
              "        `last modified: ${\n",
              "            file.lastModifiedDate ? file.lastModifiedDate.toLocaleDateString() :\n",
              "                                    'n/a'} - `));\n",
              "    const percent = span('0% done');\n",
              "    li.appendChild(percent);\n",
              "\n",
              "    outputElement.appendChild(li);\n",
              "\n",
              "    const fileDataPromise = new Promise((resolve) => {\n",
              "      const reader = new FileReader();\n",
              "      reader.onload = (e) => {\n",
              "        resolve(e.target.result);\n",
              "      };\n",
              "      reader.readAsArrayBuffer(file);\n",
              "    });\n",
              "    // Wait for the data to be ready.\n",
              "    let fileData = yield {\n",
              "      promise: fileDataPromise,\n",
              "      response: {\n",
              "        action: 'continue',\n",
              "      }\n",
              "    };\n",
              "\n",
              "    // Use a chunked sending to avoid message size limits. See b/62115660.\n",
              "    let position = 0;\n",
              "    do {\n",
              "      const length = Math.min(fileData.byteLength - position, MAX_PAYLOAD_SIZE);\n",
              "      const chunk = new Uint8Array(fileData, position, length);\n",
              "      position += length;\n",
              "\n",
              "      const base64 = btoa(String.fromCharCode.apply(null, chunk));\n",
              "      yield {\n",
              "        response: {\n",
              "          action: 'append',\n",
              "          file: file.name,\n",
              "          data: base64,\n",
              "        },\n",
              "      };\n",
              "\n",
              "      let percentDone = fileData.byteLength === 0 ?\n",
              "          100 :\n",
              "          Math.round((position / fileData.byteLength) * 100);\n",
              "      percent.textContent = `${percentDone}% done`;\n",
              "\n",
              "    } while (position < fileData.byteLength);\n",
              "  }\n",
              "\n",
              "  // All done.\n",
              "  yield {\n",
              "    response: {\n",
              "      action: 'complete',\n",
              "    }\n",
              "  };\n",
              "}\n",
              "\n",
              "scope.google = scope.google || {};\n",
              "scope.google.colab = scope.google.colab || {};\n",
              "scope.google.colab._files = {\n",
              "  _uploadFiles,\n",
              "  _uploadFilesContinue,\n",
              "};\n",
              "})(self);\n",
              "</script> "
            ]
          },
          "metadata": {}
        },
        {
          "output_type": "stream",
          "name": "stdout",
          "text": [
            "Saving InRisk_Labs_Assignment.xlsx to InRisk_Labs_Assignment.xlsx\n"
          ]
        }
      ],
      "source": [
        "import pandas as pd\n",
        "\n",
        "from google.colab import files\n",
        "uploaded = files.upload()"
      ]
    },
    {
      "cell_type": "code",
      "source": [
        "df = pd.read_excel('InRisk_Labs_Assignment.xlsx')\n",
        "\n",
        "print(df.head())\n",
        "\n",
        "# Checking for missing values\n",
        "df.isnull().values.any()\n",
        "\n",
        "#Checking the data structure of the provided data\n",
        "df.info()\n",
        "print(df.dtypes)\n",
        "\n",
        "# Getting the summary statistics of the numeric variables\n",
        "df[\"Rainfall_mm\"].describe()"
      ],
      "metadata": {
        "colab": {
          "base_uri": "https://localhost:8080/",
          "height": 682
        },
        "id": "5dDFQcCknmFH",
        "outputId": "e831557d-e131-42bc-907a-575ae1e8e3e1"
      },
      "execution_count": 35,
      "outputs": [
        {
          "output_type": "stream",
          "name": "stdout",
          "text": [
            "     Region       Date  Rainfall_mm\n",
            "0  Region_A 2024-01-01        4.965\n",
            "1  Region_A 2024-01-02       27.729\n",
            "2  Region_A 2024-01-03       12.881\n",
            "3  Region_A 2024-01-04       32.818\n",
            "4  Region_A 2024-01-05       36.127\n",
            "<class 'pandas.core.frame.DataFrame'>\n",
            "RangeIndex: 455 entries, 0 to 454\n",
            "Data columns (total 3 columns):\n",
            " #   Column       Non-Null Count  Dtype         \n",
            "---  ------       --------------  -----         \n",
            " 0   Region       455 non-null    object        \n",
            " 1   Date         455 non-null    datetime64[ns]\n",
            " 2   Rainfall_mm  455 non-null    float64       \n",
            "dtypes: datetime64[ns](1), float64(1), object(1)\n",
            "memory usage: 10.8+ KB\n",
            "Region                 object\n",
            "Date           datetime64[ns]\n",
            "Rainfall_mm           float64\n",
            "dtype: object\n"
          ]
        },
        {
          "output_type": "execute_result",
          "data": {
            "text/plain": [
              "count    4.550000e+02\n",
              "mean     4.052024e+06\n",
              "std      8.643157e+07\n",
              "min     -6.301700e+01\n",
              "25%      2.289500e+01\n",
              "50%      4.730800e+01\n",
              "75%      7.652750e+01\n",
              "max      1.843649e+09\n",
              "Name: Rainfall_mm, dtype: float64"
            ],
            "text/html": [
              "<div>\n",
              "<style scoped>\n",
              "    .dataframe tbody tr th:only-of-type {\n",
              "        vertical-align: middle;\n",
              "    }\n",
              "\n",
              "    .dataframe tbody tr th {\n",
              "        vertical-align: top;\n",
              "    }\n",
              "\n",
              "    .dataframe thead th {\n",
              "        text-align: right;\n",
              "    }\n",
              "</style>\n",
              "<table border=\"1\" class=\"dataframe\">\n",
              "  <thead>\n",
              "    <tr style=\"text-align: right;\">\n",
              "      <th></th>\n",
              "      <th>Rainfall_mm</th>\n",
              "    </tr>\n",
              "  </thead>\n",
              "  <tbody>\n",
              "    <tr>\n",
              "      <th>count</th>\n",
              "      <td>4.550000e+02</td>\n",
              "    </tr>\n",
              "    <tr>\n",
              "      <th>mean</th>\n",
              "      <td>4.052024e+06</td>\n",
              "    </tr>\n",
              "    <tr>\n",
              "      <th>std</th>\n",
              "      <td>8.643157e+07</td>\n",
              "    </tr>\n",
              "    <tr>\n",
              "      <th>min</th>\n",
              "      <td>-6.301700e+01</td>\n",
              "    </tr>\n",
              "    <tr>\n",
              "      <th>25%</th>\n",
              "      <td>2.289500e+01</td>\n",
              "    </tr>\n",
              "    <tr>\n",
              "      <th>50%</th>\n",
              "      <td>4.730800e+01</td>\n",
              "    </tr>\n",
              "    <tr>\n",
              "      <th>75%</th>\n",
              "      <td>7.652750e+01</td>\n",
              "    </tr>\n",
              "    <tr>\n",
              "      <th>max</th>\n",
              "      <td>1.843649e+09</td>\n",
              "    </tr>\n",
              "  </tbody>\n",
              "</table>\n",
              "</div><br><label><b>dtype:</b> float64</label>"
            ]
          },
          "metadata": {},
          "execution_count": 35
        }
      ]
    },
    {
      "cell_type": "code",
      "source": [
        "# As the max and minimum of the data are unreasonable, the conclusion can be drawn the data has extreme point errors.\n",
        "\n",
        "# Negative rainfall values removal\n",
        "df = df[df[\"Rainfall_mm\"] >= 0]\n",
        "\n",
        "# Capping w.r.t to highest recorded rainfall\n",
        "df = df[df[\"Rainfall_mm\"] <= 11871]\n",
        "\n",
        "print(df[\"Rainfall_mm\"].describe())\n",
        "\n",
        "# As the queries are deterministic rather being any trend analysis, the outliers are not dealt with.\n",
        "\n",
        "#Creating Another instance for code testing\n",
        "df2=df"
      ],
      "metadata": {
        "colab": {
          "base_uri": "https://localhost:8080/"
        },
        "id": "ROZWTtFfpwsS",
        "outputId": "a9280928-ddee-43d7-cb71-c0315c6a514c"
      },
      "execution_count": 39,
      "outputs": [
        {
          "output_type": "stream",
          "name": "stdout",
          "text": [
            "count    452.000000\n",
            "mean      49.468361\n",
            "std       29.875669\n",
            "min        0.081000\n",
            "25%       23.279500\n",
            "50%       47.337000\n",
            "75%       76.492250\n",
            "max       99.502000\n",
            "Name: Rainfall_mm, dtype: float64\n"
          ]
        }
      ]
    },
    {
      "cell_type": "code",
      "source": [
        "# Claim Calculation Function Slabs\n",
        "Claim_Condition = [\n",
        "    (0, 10, 0),       # No claim for days <= 10\n",
        "    (11, 30, 100),    # ₹100/day for 11–30 days\n",
        "    (31, 50, 200),    # ₹200/day for 31–50 days\n",
        "    (51, float('inf'), 300)  # ₹300/day for days >= 51\n",
        "]\n",
        "\n",
        "# Function for Calculating Claims\n",
        "def calculate_claim(days):\n",
        "    for min_days, max_days, rate in Claim_Condition:\n",
        "        if min_days <= days <= max_days:\n",
        "            return days * rate\n",
        "    return 0\n",
        "\n",
        "# Flag for excess rainfall days\n",
        "df['Excess_Rainfall'] = df['Rainfall_mm'] > 60\n",
        "\n",
        "# Group by region and calculating excess rainfall days\n",
        "excess_rainfall_count = (\n",
        "    df.groupby('Region')['Excess_Rainfall']\n",
        "    .sum()\n",
        "    .reset_index(name='Excess_Rainfall')\n",
        ")\n",
        "\n",
        "# Calculating claims for each region\n",
        "excess_rainfall_count['Claim_Amount'] = excess_rainfall_count['Excess_Rainfall'].apply(calculate_claim)\n",
        "\n",
        "# The final results\n",
        "print(excess_rainfall_count)\n"
      ],
      "metadata": {
        "colab": {
          "base_uri": "https://localhost:8080/"
        },
        "id": "-2J5wTH7B53T",
        "outputId": "2fe8a15b-1f3f-47a4-c231-c479e4f6fd43"
      },
      "execution_count": 40,
      "outputs": [
        {
          "output_type": "stream",
          "name": "stdout",
          "text": [
            "     Region  Excess_Rainfall  Claim_Amount\n",
            "0  Region_A               36          7200\n",
            "1  Region_B               37          7400\n",
            "2  Region_C               43          8600\n",
            "3  Region_D               35          7000\n",
            "4  Region_E               31          6200\n"
          ]
        }
      ]
    },
    {
      "cell_type": "code",
      "source": [
        "# Number of days with Excess rainfall as rainfall > 60 mm for each region\n",
        "\n",
        "df2['Excess_Rainfall'] = df2['Rainfall_mm'] > 60\n",
        "\n",
        "\n",
        "# Group by region and count the number of excess rainfall days\n",
        "\n",
        "excess_rainfall_count_2 = df2.groupby('Region')['Excess_Rainfall'].sum().reset_index()\n",
        "\n",
        "excess_rainfall_count_2.rename(columns={'Excess_Rainfall': 'Excess_Rainfall'}, inplace=True)\n",
        "\n",
        "print(excess_rainfall_count_2)\n",
        "print(\"Total Count of excess rainfall days:\", excess_rainfall_count_2['Excess_Rainfall'].sum())\n"
      ],
      "metadata": {
        "colab": {
          "base_uri": "https://localhost:8080/"
        },
        "id": "vmxARh2wtP6R",
        "outputId": "c77f6cc1-b324-42f3-c953-676bd243c722"
      },
      "execution_count": 41,
      "outputs": [
        {
          "output_type": "stream",
          "name": "stdout",
          "text": [
            "     Region  Excess_Rainfall\n",
            "0  Region_A               36\n",
            "1  Region_B               37\n",
            "2  Region_C               43\n",
            "3  Region_D               35\n",
            "4  Region_E               31\n",
            "Total Count of excess rainfall days: 182\n"
          ]
        }
      ]
    },
    {
      "cell_type": "code",
      "source": [
        "# Function to calculate claims based on the given slabs\n",
        "\n",
        "def Total_claim(days):\n",
        "\n",
        "    if days <= 10:\n",
        "        return 0\n",
        "    elif 11 <= days <= 30:\n",
        "        return days * 100\n",
        "    elif 31 <= days <= 50:\n",
        "        return days * 200\n",
        "    else:\n",
        "        return days * 300\n",
        "\n",
        "# The claim calculation function to the excess rainfall count\n",
        "\n",
        "excess_rainfall_count_2['Claim_Amount'] = excess_rainfall_count_2['Excess_Rainfall'].apply(Total_claim)\n",
        "\n",
        "# Displaying the results\n",
        "\n",
        "print(excess_rainfall_count_2)"
      ],
      "metadata": {
        "colab": {
          "base_uri": "https://localhost:8080/"
        },
        "id": "i7xGYpBx7Hwz",
        "outputId": "ca01a5e3-434b-4526-f8f1-9c0d46548ee7"
      },
      "execution_count": 42,
      "outputs": [
        {
          "output_type": "stream",
          "name": "stdout",
          "text": [
            "     Region  Excess_Rainfall  Claim_Amount\n",
            "0  Region_A               36          7200\n",
            "1  Region_B               37          7400\n",
            "2  Region_C               43          8600\n",
            "3  Region_D               35          7000\n",
            "4  Region_E               31          6200\n"
          ]
        }
      ]
    }
  ]
}